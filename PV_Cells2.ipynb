{
 "cells": [
  {
   "cell_type": "code",
   "execution_count": 3,
   "id": "hollywood-thailand",
   "metadata": {},
   "outputs": [],
   "source": [
    "import pylab\n",
    "import shutil \n",
    "import skimage.morphology as morph\n",
    "import skimage.feature.texture as texture\n",
    "import skimage.feature as feature\n",
    "import skimage.filters as filters\n",
    "import skimage.transform as transform\n",
    "import skimage.draw\n",
    "import skimage.util as utils\n",
    "from skimage.restoration import denoise_bilateral\n",
    "from skimage.io import imread\n",
    "from sklearn.model_selection import StratifiedKFold,cross_val_score\n",
    "from sklearn.pipeline import make_pipeline,Pipeline\n",
    "from sklearn.preprocessing import StandardScaler,MinMaxScaler\n",
    "from sklearn.ensemble import RandomForestClassifier,VotingClassifier\n",
    "from sklearn.linear_model import LogisticRegression\n",
    "from sklearn.naive_bayes import GaussianNB\n",
    "from sklearn.svm import SVC\n",
    "from sklearn.neighbors import KNeighborsClassifier\n",
    "from sklearn.feature_selection import SelectFromModel,RFE\n",
    "from sklearn.decomposition import PCA,FastICA\n",
    "from sklearn.compose import make_column_transformer\n",
    "from scipy.stats import rv_histogram"
   ]
  },
  {
   "cell_type": "code",
   "execution_count": 4,
   "id": "false-fishing",
   "metadata": {},
   "outputs": [],
   "source": [
    "root ='/home/marcelo/PV_Cell/' # Caminho para imagens\n",
    "\n",
    "fnamesF = [] # Nome das imagens PV sem defeito\n",
    "with open(root+\"Sem_Defeito.txt\") as f:\n",
    " fnamesF = [s.strip() for s in f]\n",
    "\n",
    "fnamesT = [] # Nome das imagens PV com defeito\n",
    "with open(root+\"Defeito.txt\") as f:\n",
    " fnamesT =  [s.strip() for s in f]\n",
    "\n",
    "# Abre arquivos de imagens em coloca em listas separadas\n",
    "imF = [imread(root+\"Sem_Defeito/\"+f) for f in fnamesF]\n",
    "imT = [imread(root+\"Defeito/\"+f) for f in fnamesT]\n",
    "\n",
    "im = {-1:imF,1:imT}\n",
    "\n",
    "roi_1 = [(10,25),(43,265)]\n",
    "roi_2 = [(60,15),(140,280)]\n",
    "roi_3 = [(156,15),(238,280)]\n",
    "roi_4 = [(255,25),(290,265)]"
   ]
  },
  {
   "cell_type": "code",
   "execution_count": 214,
   "id": "ordinary-validation",
   "metadata": {},
   "outputs": [],
   "source": [
    "\n",
    "def glsm_features(img):\n",
    "  g = texture.greycomatrix(utils.img_as_ubyte(img), [1,2,3], [0,pylab.pi/4,pylab.pi/2,3*pylab.pi/4], \n",
    "                           levels=256, normed=True, symmetric=True)\n",
    "  l = []\n",
    "  for f in ['contrast','dissimilarity','homogeneity','ASM','energy','correlation']:\n",
    "    l.append(texture.greycoprops(g,f).std())\n",
    "  return l\n",
    "\n",
    "def glsm_features2(img):\n",
    "  offsets = [1,3,5,7]\n",
    "  angles =  pylab.linspace(0,2*pylab.pi,16)\n",
    "  g = texture.greycomatrix(utils.img_as_ubyte(img),offsets,angles, \n",
    "                           levels=256, normed=False, symmetric=False)\n",
    "  aux = []\n",
    "  for f in ['contrast','dissimilarity','homogeneity','energy','correlation']:\n",
    "   #aux.append(texture.greycoprops(g,f).flatten())\n",
    "   aux = aux + texture.greycoprops(g,f).ravel().tolist()\n",
    "  return aux  \n",
    "  #return PCA(whiten=False).fit_transform(pylab.array(aux))\n",
    "\n",
    "def LBP_features(img,radius,method):\n",
    " h = []   \n",
    " for r in radius:\n",
    "  lbp = feature.local_binary_pattern(img, 8 * r, r, method)\n",
    "  n_bins = int(lbp.max() + 1)\n",
    "  h.append(pylab.histogram(lbp, density=True, bins=n_bins, range=(0, n_bins)))\n",
    " return h\n",
    "\n",
    " "
   ]
  },
  {
   "cell_type": "code",
   "execution_count": 221,
   "id": "preliminary-coordinate",
   "metadata": {},
   "outputs": [
    {
     "name": "stdout",
     "output_type": "stream",
     "text": [
      "1  2  3  4  5  6  7  8  9  10  11  12  13  14  15  16  17  18  19  20  21  22  23  24  25  26  27  28  29  30  31  32  33  34  35  36  37  38  39  40  41  42  43  44  45  46  47  48  49  50  51  52  53  54  55  56  57  58  59  60  61  62  63  64  65  66  67  68  69  70  71  72  73  74  75  76  77  78  79  80  81  82  83  84  85  86  87  88  89  90  91  92  93  94  95  96  97  98  99  100  101  102  103  104  105  106  107  108  109  110  111  112  113  114  115  116  117  118  119  120  121  122  123  124  125  126  127  128  129  130  131  132  133  134  135  136  137  138  139  140  141  142  143  144  145  146  147  148  149  150  151  152  153  154  155  156  157  158  159  160  161  162  163  164  165  166  167  168  169  170  171  172  173  174  175  176  177  178  179  180  181  182  183  184  185  186  187  188  189  190  191  192  193  194  195  196  197  198  199  200  201  202  203  204  205  206  207  208  209  210  211  212  213  214  215  216  217  218  219  220  221  222  223  224  225  226  227  228  229  230  231  232  233  234  235  236  237  238  239  240  241  242  243  244  245  246  247  248  249  250  251  252  253  254  255  256  257  258  259  260  261  262  263  264  265  266  267  268  269  270  271  272  273  274  275  276  277  278  279  280  281  282  283  284  285  286  287  288  289  290  291  292  293  294  295  296  297  298  299  300  301  302  303  304  305  306  307  308  309  310  311  312  313  314  315  316  317  318  319  320  321  322  323  324  325  326  327  328  329  330  331  332  333  334  335  336  337  338  339  340  341  342  343  344  345  346  347  348  349  350  351  352  353  354  355  356  357  358  359  360  361  362  363  364  365  366  367  368  369  370  371  372  373  374  375  376  377  378  379  380  381  382  383  384  385  386  387  388  389  390  391  392  393  394  395  396  397  398  399  400  401  402  403  404  405  406  407  408  409  410  411  412  413  414  415  416  417  418  419  420  421  422  423  424  425  426  427  428  429  430  431  432  433  434  435  436  437  438  439  440  441  442  443  444  445  446  447  448  449  450  451  452  453  454  455  456  457  458  459  460  461  462  463  464  465  466  467  468  469  470  471  472  "
     ]
    }
   ],
   "source": [
    "X1 =[]\n",
    "X2 = []\n",
    "lbl = []\n",
    "i = 0\n",
    "for label,img_list in im.items():\n",
    "    for img in img_list:  \n",
    "     i = i+1  \n",
    "     print(i,' ',end='')\n",
    "     aux1,aux2 = [],[] \n",
    "     for roi in [roi_1,roi_2,roi_3,roi_4]: \n",
    "      x0,y0 = roi[0]\n",
    "      x1,y1 = roi[1]\n",
    "      aux1 = aux1 + LBP_features(img[x0:x1,y0:y1],[1,2,3],\"uniform\")\n",
    "      aux2 = aux2 + glsm_features2(img[x0:x1,y0:y1])\n",
    "     lbl.append(label)\n",
    "     X1.append(aux1)\n",
    "     X2.append(aux2)\n",
    "     \n",
    "     \n",
    "      "
   ]
  },
  {
   "cell_type": "code",
   "execution_count": 226,
   "id": "related-visibility",
   "metadata": {
    "scrolled": true
   },
   "outputs": [],
   "source": [
    "#x = [i.flatten().tolist()+j.flatten().tolist()+k.flatten().tolist()+l.flatten().tolist() for i,j,k,l in zip(X[0],X[1],X[2],X[3])]\n",
    "x1 = []\n",
    "for x in X1:\n",
    " aux = []\n",
    " for h in x:\n",
    "   rv = rv_histogram(h)\n",
    "   st = pylab.hstack((rv.stats(moments='mvsk'),rv.entropy()))\n",
    "   aux = aux + st.tolist()\n",
    " x1.append(aux)\n",
    "x1 = pylab.array(x1)\n",
    "x2 = pylab.array(X2)"
   ]
  },
  {
   "cell_type": "code",
   "execution_count": 287,
   "id": "touched-salon",
   "metadata": {},
   "outputs": [],
   "source": [
    "clf1 = RandomForestClassifier(n_estimators=250,min_samples_split=3,n_jobs=-1)\n",
    "clf2 = SVC(kernel='linear',probability=True)\n",
    "clf3 = LogisticRegression(max_iter=350)\n",
    "clf4 = GaussianNB()\n",
    "clf5 = KNeighborsClassifier(n_neighbors = 3)\n",
    "clf6 = VotingClassifier(estimators=[('rfc',clf1),('svc',clf2),('lr',clf3),('nb',clf4),('knn',clf5)],voting='soft')"
   ]
  },
  {
   "cell_type": "code",
   "execution_count": null,
   "id": "answering-torture",
   "metadata": {
    "scrolled": true
   },
   "outputs": [
    {
     "name": "stdout",
     "output_type": "stream",
     "text": [
      "5 0.86 0.02 0.86 0.03 0.87 0.03 0.86 0.02 0.85 0.01 0.86 0.03\n",
      "6 0.86 0.01 0.87 0.00 0.86 0.02 0.86 0.02 0.82 0.02 0.86 0.03\n",
      "7 0.87 0.01 0.86 0.02 0.87 0.02 0.86 0.01 0.84 0.02 0.86 0.03\n",
      "8 0.86 0.02 0.87 0.02 0.85 0.03 0.86 0.01 0.84 0.03 0.87 0.01\n",
      "9 0.86 0.02 0.87 0.04 0.87 0.01 0.86 0.01 0.86 0.02 0.87 0.02\n",
      "10 0.87 0.03 0.88 0.02 0.89 0.04 0.86 0.01 0.85 0.02 0.87 0.00\n",
      "11 0.87 0.03 0.88 0.01 0.88 0.01 0.86 0.01 0.83 0.02 0.87 0.02\n",
      "12 0.86 0.02 0.88 0.02 0.86 0.04 0.86 0.01 0.84 0.04 0.87 0.03\n",
      "13 0.87 0.03 0.89 0.01 0.88 0.01 0.86 0.01 0.84 0.02 0.87 0.02\n",
      "14 0.87 0.01 0.89 0.03 0.89 0.02 0.86 0.04 0.83 0.00 0.87 0.03\n",
      "15 0.87 0.01 0.87 0.02 0.88 0.01 0.86 0.03 0.82 0.02 0.87 0.02\n",
      "16 0.87 0.03 0.85 0.02 0.86 0.02 0.86 0.01 0.83 0.02 0.87 0.04\n",
      "17 0.86 0.02 0.88 0.01 0.88 0.03 0.86 0.02 0.83 0.01 0.87 0.01\n",
      "18 0.88 0.04 0.89 0.02 0.88 0.02 0.86 0.03 0.83 0.01 0.87 0.02\n",
      "19 0.87 0.01 0.87 0.03 0.87 0.03 0.86 0.03 0.84 0.01 0.87 0.02\n",
      "20 0.87 0.03 0.87 0.04 0.87 0.03 0.86 0.01 0.84 0.03 0.87 0.02\n",
      "21 0.86 0.04 0.87 0.02 0.86 0.03 0.86 0.03 0.83 0.03 0.87 0.03\n",
      "22 0.86 0.00 0.87 0.02 0.87 0.03 0.86 0.03 0.84 0.02 0.87 0.00\n",
      "23 0.87 0.00 0.86 0.02 0.89 0.02 0.86 0.02 0.85 0.02 0.87 0.01\n",
      "24 0.85 0.01 0.85 0.01 0.86 0.01 0.86 0.01 0.82 0.02"
     ]
    }
   ],
   "source": [
    "xf,y = pylab.hstack((x2,x1)),lbl\n",
    "N,N1,N2 = xf.shape[1],x1.shape[1],x2.shape[1]\n",
    "k = 5\n",
    "for n in range(5,N2,1):   \n",
    "  print(n,end='')\n",
    "  #slm = SelectFromModel(estimator=clf1,max_features=n,prefit=False)\n",
    "  ctf = make_column_transformer((PCA(n_components=n,whiten=True),slice(0,N2)),remainder=\"passthrough\")\n",
    "  for clf in [clf1,clf2,clf3,clf4,clf5,clf6]:\n",
    "   p2 = Pipeline([('Scaler',StandardScaler(with_mean=False)),('ctf',ctf),(\"Classification\",clf)])\n",
    "   score = cross_val_score(p2,xf,y, cv=StratifiedKFold(n_splits=3,shuffle=True),scoring='f1',n_jobs=-1)\n",
    "   print(\" {0:.2f} {1:.2f}\".format(score.mean(),score.std()),end='')\n",
    "  print()"
   ]
  },
  {
   "cell_type": "code",
   "execution_count": null,
   "id": "promising-novel",
   "metadata": {},
   "outputs": [],
   "source": [
    "img = imT[10]\n",
    "imr = imread(root+\"cell_msk.png\",as_gray=True)\n",
    "\n",
    "#imr_g = filters.gaussian(imr,sigma = 2.) \n",
    "#img_g = filters.gaussian(img,sigma = .5) \n",
    "img_g =denoise_bilateral(img,sigma_spatial = 5.) \n",
    "#imr_t = imr_g > filters.threshold_otsu(imr_g)\n",
    "img_t = img_g > filters.threshold_otsu(img_g)\n",
    "\n",
    "msk = pylab.logical_xor(imr,img_t)\n",
    "#msk = morph.binary_opening(msk,morph.rectangle(20,5)) \n",
    "#msk = morph.binary_closing(msk,morph.disk(5))    \n",
    "#\n",
    "\n",
    "pylab.figure(i,figsize=(10,20))\n",
    "pylab.subplot(121)\n",
    "pylab.imshow(img,'gray')\n",
    "pylab.subplot(122)\n",
    "pylab.imshow(img_t, 'gray')\n",
    " "
   ]
  },
  {
   "cell_type": "code",
   "execution_count": null,
   "id": "actual-norwegian",
   "metadata": {},
   "outputs": [],
   "source": []
  }
 ],
 "metadata": {
  "kernelspec": {
   "display_name": "Python 3",
   "language": "python",
   "name": "python3"
  },
  "language_info": {
   "codemirror_mode": {
    "name": "ipython",
    "version": 3
   },
   "file_extension": ".py",
   "mimetype": "text/x-python",
   "name": "python",
   "nbconvert_exporter": "python",
   "pygments_lexer": "ipython3",
   "version": "3.8.5"
  }
 },
 "nbformat": 4,
 "nbformat_minor": 5
}
